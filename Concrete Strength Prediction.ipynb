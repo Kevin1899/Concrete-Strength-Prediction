{
 "cells": [
  {
   "cell_type": "markdown",
   "id": "4cacc271",
   "metadata": {},
   "source": [
    "# Concrete Strength Prediction"
   ]
  },
  {
   "cell_type": "raw",
   "id": "98524ede",
   "metadata": {},
   "source": [
    "> cement : how much cement is mixed\n",
    "> blast_furnace_slag : how much blast furnace slag is mixed\n",
    "> fly_ash : how much flyash is mixed\n",
    "> water : how much water is mixed\n",
    "> superPlasticizer : how much super plasticizer is mixed\n",
    "> coarseAggregate : how much coarse aggregate is mixed\n",
    "> fineAggregate : how much fine aggregate is mixed\n",
    "> age : how many days it is left to make it dry\n",
    "> concret_compressive_strength :  what was the final strength of concrete\n"
   ]
  },
  {
   "cell_type": "code",
   "execution_count": 1,
   "id": "1a665587",
   "metadata": {},
   "outputs": [],
   "source": [
    "import pandas as pd\n",
    "import numpy as np"
   ]
  },
  {
   "cell_type": "code",
   "execution_count": 2,
   "id": "a881ae57",
   "metadata": {},
   "outputs": [],
   "source": [
    "data = pd.read_csv(\"concrete_data.csv\")"
   ]
  },
  {
   "cell_type": "code",
   "execution_count": 3,
   "id": "de3cf912",
   "metadata": {},
   "outputs": [
    {
     "data": {
      "text/html": [
       "<div>\n",
       "<style scoped>\n",
       "    .dataframe tbody tr th:only-of-type {\n",
       "        vertical-align: middle;\n",
       "    }\n",
       "\n",
       "    .dataframe tbody tr th {\n",
       "        vertical-align: top;\n",
       "    }\n",
       "\n",
       "    .dataframe thead th {\n",
       "        text-align: right;\n",
       "    }\n",
       "</style>\n",
       "<table border=\"1\" class=\"dataframe\">\n",
       "  <thead>\n",
       "    <tr style=\"text-align: right;\">\n",
       "      <th></th>\n",
       "      <th>cement</th>\n",
       "      <th>blast_furnace_slag</th>\n",
       "      <th>fly_ash</th>\n",
       "      <th>water</th>\n",
       "      <th>superplasticizer</th>\n",
       "      <th>coarse_aggregate</th>\n",
       "      <th>fine_aggregate</th>\n",
       "      <th>age</th>\n",
       "      <th>concrete_compressive_strength</th>\n",
       "    </tr>\n",
       "  </thead>\n",
       "  <tbody>\n",
       "    <tr>\n",
       "      <th>0</th>\n",
       "      <td>540.0</td>\n",
       "      <td>0.0</td>\n",
       "      <td>0.0</td>\n",
       "      <td>162.0</td>\n",
       "      <td>2.5</td>\n",
       "      <td>1040.0</td>\n",
       "      <td>676.0</td>\n",
       "      <td>28</td>\n",
       "      <td>79.99</td>\n",
       "    </tr>\n",
       "    <tr>\n",
       "      <th>1</th>\n",
       "      <td>540.0</td>\n",
       "      <td>0.0</td>\n",
       "      <td>0.0</td>\n",
       "      <td>162.0</td>\n",
       "      <td>2.5</td>\n",
       "      <td>1055.0</td>\n",
       "      <td>676.0</td>\n",
       "      <td>28</td>\n",
       "      <td>61.89</td>\n",
       "    </tr>\n",
       "    <tr>\n",
       "      <th>2</th>\n",
       "      <td>332.5</td>\n",
       "      <td>142.5</td>\n",
       "      <td>0.0</td>\n",
       "      <td>228.0</td>\n",
       "      <td>0.0</td>\n",
       "      <td>932.0</td>\n",
       "      <td>594.0</td>\n",
       "      <td>270</td>\n",
       "      <td>40.27</td>\n",
       "    </tr>\n",
       "    <tr>\n",
       "      <th>3</th>\n",
       "      <td>332.5</td>\n",
       "      <td>142.5</td>\n",
       "      <td>0.0</td>\n",
       "      <td>228.0</td>\n",
       "      <td>0.0</td>\n",
       "      <td>932.0</td>\n",
       "      <td>594.0</td>\n",
       "      <td>365</td>\n",
       "      <td>41.05</td>\n",
       "    </tr>\n",
       "    <tr>\n",
       "      <th>4</th>\n",
       "      <td>198.6</td>\n",
       "      <td>132.4</td>\n",
       "      <td>0.0</td>\n",
       "      <td>192.0</td>\n",
       "      <td>0.0</td>\n",
       "      <td>978.4</td>\n",
       "      <td>825.5</td>\n",
       "      <td>360</td>\n",
       "      <td>44.30</td>\n",
       "    </tr>\n",
       "  </tbody>\n",
       "</table>\n",
       "</div>"
      ],
      "text/plain": [
       "   cement  blast_furnace_slag  fly_ash  water  superplasticizer  \\\n",
       "0   540.0                 0.0      0.0  162.0               2.5   \n",
       "1   540.0                 0.0      0.0  162.0               2.5   \n",
       "2   332.5               142.5      0.0  228.0               0.0   \n",
       "3   332.5               142.5      0.0  228.0               0.0   \n",
       "4   198.6               132.4      0.0  192.0               0.0   \n",
       "\n",
       "   coarse_aggregate  fine_aggregate   age  concrete_compressive_strength  \n",
       "0            1040.0            676.0   28                          79.99  \n",
       "1            1055.0            676.0   28                          61.89  \n",
       "2             932.0            594.0  270                          40.27  \n",
       "3             932.0            594.0  365                          41.05  \n",
       "4             978.4            825.5  360                          44.30  "
      ]
     },
     "execution_count": 3,
     "metadata": {},
     "output_type": "execute_result"
    }
   ],
   "source": [
    "data.head()"
   ]
  },
  {
   "cell_type": "code",
   "execution_count": 4,
   "id": "99d951e0",
   "metadata": {},
   "outputs": [
    {
     "data": {
      "text/plain": [
       "(1030, 9)"
      ]
     },
     "execution_count": 4,
     "metadata": {},
     "output_type": "execute_result"
    }
   ],
   "source": [
    "data.shape  #Gives total rows and columns of dataset"
   ]
  },
  {
   "cell_type": "code",
   "execution_count": 5,
   "id": "fe4bdefd",
   "metadata": {},
   "outputs": [],
   "source": [
    "data = data.drop_duplicates() # Removes the same rows assigned multiples times in th dataset"
   ]
  },
  {
   "cell_type": "code",
   "execution_count": 6,
   "id": "e82ece6a",
   "metadata": {},
   "outputs": [
    {
     "data": {
      "text/plain": [
       "(1005, 9)"
      ]
     },
     "execution_count": 6,
     "metadata": {},
     "output_type": "execute_result"
    }
   ],
   "source": [
    "data.shape"
   ]
  },
  {
   "cell_type": "code",
   "execution_count": 7,
   "id": "4b27d122",
   "metadata": {},
   "outputs": [
    {
     "data": {
      "text/html": [
       "<div>\n",
       "<style scoped>\n",
       "    .dataframe tbody tr th:only-of-type {\n",
       "        vertical-align: middle;\n",
       "    }\n",
       "\n",
       "    .dataframe tbody tr th {\n",
       "        vertical-align: top;\n",
       "    }\n",
       "\n",
       "    .dataframe thead th {\n",
       "        text-align: right;\n",
       "    }\n",
       "</style>\n",
       "<table border=\"1\" class=\"dataframe\">\n",
       "  <thead>\n",
       "    <tr style=\"text-align: right;\">\n",
       "      <th></th>\n",
       "      <th>cement</th>\n",
       "      <th>blast_furnace_slag</th>\n",
       "      <th>fly_ash</th>\n",
       "      <th>water</th>\n",
       "      <th>superplasticizer</th>\n",
       "      <th>coarse_aggregate</th>\n",
       "      <th>fine_aggregate</th>\n",
       "      <th>age</th>\n",
       "      <th>concrete_compressive_strength</th>\n",
       "    </tr>\n",
       "  </thead>\n",
       "  <tbody>\n",
       "    <tr>\n",
       "      <th>0</th>\n",
       "      <td>540.0</td>\n",
       "      <td>0.0</td>\n",
       "      <td>0.0</td>\n",
       "      <td>162.0</td>\n",
       "      <td>2.5</td>\n",
       "      <td>1040.0</td>\n",
       "      <td>676.0</td>\n",
       "      <td>28</td>\n",
       "      <td>79.99</td>\n",
       "    </tr>\n",
       "    <tr>\n",
       "      <th>1</th>\n",
       "      <td>540.0</td>\n",
       "      <td>0.0</td>\n",
       "      <td>0.0</td>\n",
       "      <td>162.0</td>\n",
       "      <td>2.5</td>\n",
       "      <td>1055.0</td>\n",
       "      <td>676.0</td>\n",
       "      <td>28</td>\n",
       "      <td>61.89</td>\n",
       "    </tr>\n",
       "    <tr>\n",
       "      <th>2</th>\n",
       "      <td>332.5</td>\n",
       "      <td>142.5</td>\n",
       "      <td>0.0</td>\n",
       "      <td>228.0</td>\n",
       "      <td>0.0</td>\n",
       "      <td>932.0</td>\n",
       "      <td>594.0</td>\n",
       "      <td>270</td>\n",
       "      <td>40.27</td>\n",
       "    </tr>\n",
       "    <tr>\n",
       "      <th>3</th>\n",
       "      <td>332.5</td>\n",
       "      <td>142.5</td>\n",
       "      <td>0.0</td>\n",
       "      <td>228.0</td>\n",
       "      <td>0.0</td>\n",
       "      <td>932.0</td>\n",
       "      <td>594.0</td>\n",
       "      <td>365</td>\n",
       "      <td>41.05</td>\n",
       "    </tr>\n",
       "    <tr>\n",
       "      <th>4</th>\n",
       "      <td>198.6</td>\n",
       "      <td>132.4</td>\n",
       "      <td>0.0</td>\n",
       "      <td>192.0</td>\n",
       "      <td>0.0</td>\n",
       "      <td>978.4</td>\n",
       "      <td>825.5</td>\n",
       "      <td>360</td>\n",
       "      <td>44.30</td>\n",
       "    </tr>\n",
       "  </tbody>\n",
       "</table>\n",
       "</div>"
      ],
      "text/plain": [
       "   cement  blast_furnace_slag  fly_ash  water  superplasticizer  \\\n",
       "0   540.0                 0.0      0.0  162.0               2.5   \n",
       "1   540.0                 0.0      0.0  162.0               2.5   \n",
       "2   332.5               142.5      0.0  228.0               0.0   \n",
       "3   332.5               142.5      0.0  228.0               0.0   \n",
       "4   198.6               132.4      0.0  192.0               0.0   \n",
       "\n",
       "   coarse_aggregate  fine_aggregate   age  concrete_compressive_strength  \n",
       "0            1040.0            676.0   28                          79.99  \n",
       "1            1055.0            676.0   28                          61.89  \n",
       "2             932.0            594.0  270                          40.27  \n",
       "3             932.0            594.0  365                          41.05  \n",
       "4             978.4            825.5  360                          44.30  "
      ]
     },
     "execution_count": 7,
     "metadata": {},
     "output_type": "execute_result"
    }
   ],
   "source": [
    "data.head()"
   ]
  },
  {
   "cell_type": "markdown",
   "id": "cbca7308",
   "metadata": {},
   "source": [
    "##  Problem Statement:"
   ]
  },
  {
   "cell_type": "markdown",
   "id": "ab05879b",
   "metadata": {},
   "source": [
    "Create a model which can predict the strength of concrete\n",
    "\n",
    "- Target Variable : Strength\n",
    "- Predictors : cement, blast_furnace_slaf,fly_ash,water,superpasticizer,coarse_aggregate, fine_aggreagate, age"
   ]
  },
  {
   "cell_type": "markdown",
   "id": "c613e226",
   "metadata": {},
   "source": [
    "### Basic Data Exploration"
   ]
  },
  {
   "cell_type": "code",
   "execution_count": 8,
   "id": "e9698a65",
   "metadata": {},
   "outputs": [
    {
     "data": {
      "text/html": [
       "<div>\n",
       "<style scoped>\n",
       "    .dataframe tbody tr th:only-of-type {\n",
       "        vertical-align: middle;\n",
       "    }\n",
       "\n",
       "    .dataframe tbody tr th {\n",
       "        vertical-align: top;\n",
       "    }\n",
       "\n",
       "    .dataframe thead th {\n",
       "        text-align: right;\n",
       "    }\n",
       "</style>\n",
       "<table border=\"1\" class=\"dataframe\">\n",
       "  <thead>\n",
       "    <tr style=\"text-align: right;\">\n",
       "      <th></th>\n",
       "      <th>cement</th>\n",
       "      <th>blast_furnace_slag</th>\n",
       "      <th>fly_ash</th>\n",
       "      <th>water</th>\n",
       "      <th>superplasticizer</th>\n",
       "      <th>coarse_aggregate</th>\n",
       "      <th>fine_aggregate</th>\n",
       "      <th>age</th>\n",
       "      <th>concrete_compressive_strength</th>\n",
       "    </tr>\n",
       "  </thead>\n",
       "  <tbody>\n",
       "    <tr>\n",
       "      <th>1025</th>\n",
       "      <td>276.4</td>\n",
       "      <td>116.0</td>\n",
       "      <td>90.3</td>\n",
       "      <td>179.6</td>\n",
       "      <td>8.9</td>\n",
       "      <td>870.1</td>\n",
       "      <td>768.3</td>\n",
       "      <td>28</td>\n",
       "      <td>44.28</td>\n",
       "    </tr>\n",
       "    <tr>\n",
       "      <th>1026</th>\n",
       "      <td>322.2</td>\n",
       "      <td>0.0</td>\n",
       "      <td>115.6</td>\n",
       "      <td>196.0</td>\n",
       "      <td>10.4</td>\n",
       "      <td>817.9</td>\n",
       "      <td>813.4</td>\n",
       "      <td>28</td>\n",
       "      <td>31.18</td>\n",
       "    </tr>\n",
       "    <tr>\n",
       "      <th>1027</th>\n",
       "      <td>148.5</td>\n",
       "      <td>139.4</td>\n",
       "      <td>108.6</td>\n",
       "      <td>192.7</td>\n",
       "      <td>6.1</td>\n",
       "      <td>892.4</td>\n",
       "      <td>780.0</td>\n",
       "      <td>28</td>\n",
       "      <td>23.70</td>\n",
       "    </tr>\n",
       "    <tr>\n",
       "      <th>1028</th>\n",
       "      <td>159.1</td>\n",
       "      <td>186.7</td>\n",
       "      <td>0.0</td>\n",
       "      <td>175.6</td>\n",
       "      <td>11.3</td>\n",
       "      <td>989.6</td>\n",
       "      <td>788.9</td>\n",
       "      <td>28</td>\n",
       "      <td>32.77</td>\n",
       "    </tr>\n",
       "    <tr>\n",
       "      <th>1029</th>\n",
       "      <td>260.9</td>\n",
       "      <td>100.5</td>\n",
       "      <td>78.3</td>\n",
       "      <td>200.6</td>\n",
       "      <td>8.6</td>\n",
       "      <td>864.5</td>\n",
       "      <td>761.5</td>\n",
       "      <td>28</td>\n",
       "      <td>32.40</td>\n",
       "    </tr>\n",
       "  </tbody>\n",
       "</table>\n",
       "</div>"
      ],
      "text/plain": [
       "      cement  blast_furnace_slag  fly_ash  water  superplasticizer  \\\n",
       "1025   276.4               116.0     90.3  179.6               8.9   \n",
       "1026   322.2                 0.0    115.6  196.0              10.4   \n",
       "1027   148.5               139.4    108.6  192.7               6.1   \n",
       "1028   159.1               186.7      0.0  175.6              11.3   \n",
       "1029   260.9               100.5     78.3  200.6               8.6   \n",
       "\n",
       "      coarse_aggregate  fine_aggregate   age  concrete_compressive_strength  \n",
       "1025             870.1            768.3   28                          44.28  \n",
       "1026             817.9            813.4   28                          31.18  \n",
       "1027             892.4            780.0   28                          23.70  \n",
       "1028             989.6            788.9   28                          32.77  \n",
       "1029             864.5            761.5   28                          32.40  "
      ]
     },
     "execution_count": 8,
     "metadata": {},
     "output_type": "execute_result"
    }
   ],
   "source": [
    "data.tail()"
   ]
  },
  {
   "cell_type": "code",
   "execution_count": 9,
   "id": "94d55a4a",
   "metadata": {},
   "outputs": [
    {
     "data": {
      "text/plain": [
       "cement                           278\n",
       "blast_furnace_slag               185\n",
       "fly_ash                          156\n",
       "water                            195\n",
       "superplasticizer                 111\n",
       "coarse_aggregate                 284\n",
       "fine_aggregate                   302\n",
       "age                               14\n",
       "concrete_compressive_strength    845\n",
       "dtype: int64"
      ]
     },
     "execution_count": 9,
     "metadata": {},
     "output_type": "execute_result"
    }
   ],
   "source": [
    "data.nunique()"
   ]
  },
  {
   "cell_type": "code",
   "execution_count": 10,
   "id": "68edd47a",
   "metadata": {},
   "outputs": [
    {
     "name": "stdout",
     "output_type": "stream",
     "text": [
      "<class 'pandas.core.frame.DataFrame'>\n",
      "Int64Index: 1005 entries, 0 to 1029\n",
      "Data columns (total 9 columns):\n",
      " #   Column                         Non-Null Count  Dtype  \n",
      "---  ------                         --------------  -----  \n",
      " 0   cement                         1005 non-null   float64\n",
      " 1   blast_furnace_slag             1005 non-null   float64\n",
      " 2   fly_ash                        1005 non-null   float64\n",
      " 3   water                          1005 non-null   float64\n",
      " 4   superplasticizer               1005 non-null   float64\n",
      " 5   coarse_aggregate               1005 non-null   float64\n",
      " 6   fine_aggregate                 1005 non-null   float64\n",
      " 7   age                            1005 non-null   int64  \n",
      " 8   concrete_compressive_strength  1005 non-null   float64\n",
      "dtypes: float64(8), int64(1)\n",
      "memory usage: 78.5 KB\n"
     ]
    }
   ],
   "source": [
    "data.info()"
   ]
  },
  {
   "cell_type": "code",
   "execution_count": 11,
   "id": "567cbde1",
   "metadata": {},
   "outputs": [
    {
     "data": {
      "text/html": [
       "<div>\n",
       "<style scoped>\n",
       "    .dataframe tbody tr th:only-of-type {\n",
       "        vertical-align: middle;\n",
       "    }\n",
       "\n",
       "    .dataframe tbody tr th {\n",
       "        vertical-align: top;\n",
       "    }\n",
       "\n",
       "    .dataframe thead th {\n",
       "        text-align: right;\n",
       "    }\n",
       "</style>\n",
       "<table border=\"1\" class=\"dataframe\">\n",
       "  <thead>\n",
       "    <tr style=\"text-align: right;\">\n",
       "      <th></th>\n",
       "      <th>cement</th>\n",
       "      <th>blast_furnace_slag</th>\n",
       "      <th>fly_ash</th>\n",
       "      <th>water</th>\n",
       "      <th>superplasticizer</th>\n",
       "      <th>coarse_aggregate</th>\n",
       "      <th>fine_aggregate</th>\n",
       "      <th>age</th>\n",
       "      <th>concrete_compressive_strength</th>\n",
       "    </tr>\n",
       "  </thead>\n",
       "  <tbody>\n",
       "    <tr>\n",
       "      <th>count</th>\n",
       "      <td>1005.000000</td>\n",
       "      <td>1005.000000</td>\n",
       "      <td>1005.000000</td>\n",
       "      <td>1005.000000</td>\n",
       "      <td>1005.000000</td>\n",
       "      <td>1005.000000</td>\n",
       "      <td>1005.000000</td>\n",
       "      <td>1005.000000</td>\n",
       "      <td>1005.000000</td>\n",
       "    </tr>\n",
       "    <tr>\n",
       "      <th>mean</th>\n",
       "      <td>278.631343</td>\n",
       "      <td>72.043483</td>\n",
       "      <td>55.536318</td>\n",
       "      <td>182.075323</td>\n",
       "      <td>6.033234</td>\n",
       "      <td>974.376816</td>\n",
       "      <td>772.688259</td>\n",
       "      <td>45.856716</td>\n",
       "      <td>35.250378</td>\n",
       "    </tr>\n",
       "    <tr>\n",
       "      <th>std</th>\n",
       "      <td>104.344261</td>\n",
       "      <td>86.170807</td>\n",
       "      <td>64.207969</td>\n",
       "      <td>21.339334</td>\n",
       "      <td>5.919967</td>\n",
       "      <td>77.579667</td>\n",
       "      <td>80.340435</td>\n",
       "      <td>63.734692</td>\n",
       "      <td>16.284815</td>\n",
       "    </tr>\n",
       "    <tr>\n",
       "      <th>min</th>\n",
       "      <td>102.000000</td>\n",
       "      <td>0.000000</td>\n",
       "      <td>0.000000</td>\n",
       "      <td>121.800000</td>\n",
       "      <td>0.000000</td>\n",
       "      <td>801.000000</td>\n",
       "      <td>594.000000</td>\n",
       "      <td>1.000000</td>\n",
       "      <td>2.330000</td>\n",
       "    </tr>\n",
       "    <tr>\n",
       "      <th>25%</th>\n",
       "      <td>190.700000</td>\n",
       "      <td>0.000000</td>\n",
       "      <td>0.000000</td>\n",
       "      <td>166.600000</td>\n",
       "      <td>0.000000</td>\n",
       "      <td>932.000000</td>\n",
       "      <td>724.300000</td>\n",
       "      <td>7.000000</td>\n",
       "      <td>23.520000</td>\n",
       "    </tr>\n",
       "    <tr>\n",
       "      <th>50%</th>\n",
       "      <td>265.000000</td>\n",
       "      <td>20.000000</td>\n",
       "      <td>0.000000</td>\n",
       "      <td>185.700000</td>\n",
       "      <td>6.100000</td>\n",
       "      <td>968.000000</td>\n",
       "      <td>780.000000</td>\n",
       "      <td>28.000000</td>\n",
       "      <td>33.800000</td>\n",
       "    </tr>\n",
       "    <tr>\n",
       "      <th>75%</th>\n",
       "      <td>349.000000</td>\n",
       "      <td>142.500000</td>\n",
       "      <td>118.300000</td>\n",
       "      <td>192.900000</td>\n",
       "      <td>10.000000</td>\n",
       "      <td>1031.000000</td>\n",
       "      <td>822.200000</td>\n",
       "      <td>56.000000</td>\n",
       "      <td>44.870000</td>\n",
       "    </tr>\n",
       "    <tr>\n",
       "      <th>max</th>\n",
       "      <td>540.000000</td>\n",
       "      <td>359.400000</td>\n",
       "      <td>200.100000</td>\n",
       "      <td>247.000000</td>\n",
       "      <td>32.200000</td>\n",
       "      <td>1145.000000</td>\n",
       "      <td>992.600000</td>\n",
       "      <td>365.000000</td>\n",
       "      <td>82.600000</td>\n",
       "    </tr>\n",
       "  </tbody>\n",
       "</table>\n",
       "</div>"
      ],
      "text/plain": [
       "            cement  blast_furnace_slag      fly_ash        water  \\\n",
       "count  1005.000000         1005.000000  1005.000000  1005.000000   \n",
       "mean    278.631343           72.043483    55.536318   182.075323   \n",
       "std     104.344261           86.170807    64.207969    21.339334   \n",
       "min     102.000000            0.000000     0.000000   121.800000   \n",
       "25%     190.700000            0.000000     0.000000   166.600000   \n",
       "50%     265.000000           20.000000     0.000000   185.700000   \n",
       "75%     349.000000          142.500000   118.300000   192.900000   \n",
       "max     540.000000          359.400000   200.100000   247.000000   \n",
       "\n",
       "       superplasticizer  coarse_aggregate  fine_aggregate           age  \\\n",
       "count       1005.000000       1005.000000      1005.000000  1005.000000   \n",
       "mean           6.033234        974.376816       772.688259    45.856716   \n",
       "std            5.919967         77.579667        80.340435    63.734692   \n",
       "min            0.000000        801.000000       594.000000     1.000000   \n",
       "25%            0.000000        932.000000       724.300000     7.000000   \n",
       "50%            6.100000        968.000000       780.000000    28.000000   \n",
       "75%           10.000000       1031.000000       822.200000    56.000000   \n",
       "max           32.200000       1145.000000       992.600000   365.000000   \n",
       "\n",
       "       concrete_compressive_strength  \n",
       "count                    1005.000000  \n",
       "mean                       35.250378  \n",
       "std                        16.284815  \n",
       "min                         2.330000  \n",
       "25%                        23.520000  \n",
       "50%                        33.800000  \n",
       "75%                        44.870000  \n",
       "max                        82.600000  "
      ]
     },
     "execution_count": 11,
     "metadata": {},
     "output_type": "execute_result"
    }
   ],
   "source": [
    "data.describe()"
   ]
  },
  {
   "cell_type": "markdown",
   "id": "9440f612",
   "metadata": {},
   "source": [
    "## Let's look at distribution of Target Variable\n",
    "\n",
    "- If  target variable's distribution is too skewed then the predictive modelling  will not be possible.\n",
    "- Bell curve is desirable but slightly positive or negative skewed is fine\n",
    "- When performing Regression, make sure the  histogram looks like a bell curve or slightly skewed version of it. Otherwise it impacts the ML algorithms ability to learn all the scenarios"
   ]
  },
  {
   "cell_type": "code",
   "execution_count": 12,
   "id": "89aa7a58",
   "metadata": {},
   "outputs": [],
   "source": [
    "import matplotlib.pyplot as plt"
   ]
  },
  {
   "cell_type": "code",
   "execution_count": 13,
   "id": "2a974c80",
   "metadata": {},
   "outputs": [
    {
     "data": {
      "text/plain": [
       "<AxesSubplot:>"
      ]
     },
     "execution_count": 13,
     "metadata": {},
     "output_type": "execute_result"
    },
    {
     "data": {
      "image/png": "[encoded data removed]",
      "text/plain": [
       "<Figure size 432x288 with 1 Axes>"
      ]
     },
     "metadata": {
      "needs_background": "light"
     },
     "output_type": "display_data"
    }
   ],
   "source": [
    "data['concrete_compressive_strength'].hist()"
   ]
  },
  {
   "cell_type": "markdown",
   "id": "cea5801f",
   "metadata": {},
   "source": [
    "## Exploratory Data Analysis"
   ]
  },
  {
   "cell_type": "markdown",
   "id": "66870654",
   "metadata": {},
   "source": [
    "- Categorical Data : Use Bar Chart,Heatmap,Scatterplot\n",
    "- Continuous Data : Use Hist Plot,BoxPlot,DistPlot"
   ]
  },
  {
   "cell_type": "code",
   "execution_count": 14,
   "id": "8036e5b9",
   "metadata": {
    "scrolled": true
   },
   "outputs": [
    {
     "data": {
      "text/plain": [
       "array([[<AxesSubplot:title={'center':'cement'}>,\n",
       "        <AxesSubplot:title={'center':'blast_furnace_slag'}>,\n",
       "        <AxesSubplot:title={'center':'fly_ash'}>],\n",
       "       [<AxesSubplot:title={'center':'water'}>,\n",
       "        <AxesSubplot:title={'center':'superplasticizer'}>,\n",
       "        <AxesSubplot:title={'center':'coarse_aggregate'}>],\n",
       "       [<AxesSubplot:title={'center':'fine_aggregate '}>,\n",
       "        <AxesSubplot:title={'center':'age'}>, <AxesSubplot:>]],\n",
       "      dtype=object)"
      ]
     },
     "execution_count": 14,
     "metadata": {},
     "output_type": "execute_result"
    },
    {
     "data": {
      "image/png": "[encoded data removed]",
      "text/plain": [
       "<Figure size 1296x720 with 9 Axes>"
      ]
     },
     "metadata": {
      "needs_background": "light"
     },
     "output_type": "display_data"
    }
   ],
   "source": [
    "data.hist(['cement','blast_furnace_slag','fly_ash','water','superplasticizer','coarse_aggregate','fine_aggregate ','age'],figsize=(18,10))"
   ]
  },
  {
   "cell_type": "markdown",
   "id": "d3275f7f",
   "metadata": {},
   "source": [
    "The ideal outcome of this histogram should be bell curve or slightly bell curved. If there is too much skewness then outlier treatment should be done and the column should be re-examined.If that does not happen then does not solve the problem then reject the column"
   ]
  },
  {
   "cell_type": "markdown",
   "id": "3deda71c",
   "metadata": {},
   "source": [
    "## Selected continuous variable"
   ]
  },
  {
   "cell_type": "markdown",
   "id": "9730ba54",
   "metadata": {},
   "source": [
    "- __cement__ : selected. The distribution is good.\n",
    "- __blast_furnace_slag__ : selected. The distribution is good.\n",
    "- __fly_ash__ : selected. The distribution is good.\n",
    "- __water__ : selected. The distribution is good.\n",
    "- __superplasticizer__ : selected. The distribution is good.\n",
    "- __coarse_Aggreage__ : selected. The} distribution is good.\n",
    "- __fine_aggregate__ : selected. The distribution is good.\n",
    "- __age__ : selected. The distribution is skewed, but the tail is thick,hence acceptable."
   ]
  },
  {
   "cell_type": "markdown",
   "id": "5c667bbb",
   "metadata": {},
   "source": [
    "## Missing Value Treatment:\n",
    "\n",
    "Missing values for column are treated separately.\n",
    "\n",
    "If a column has more than 30% data missing, then missing value treartment cannnot be done. That column ,=must be rejected bacause too much information is missing.\n",
    "\n",
    "There are below options available for treating missing values.\n",
    "- Delete missing value rows if there are only few records\n",
    "- Impute missing values with with MEDIAN/MEAN for continuous variable\n",
    "- Impute missing values with with MODe for categorical variable\n",
    "- Interpolate the values based on nearby values\n",
    "- Interpolate the values based on business logic"
   ]
  },
  {
   "cell_type": "code",
   "execution_count": 15,
   "id": "2dae3c85",
   "metadata": {},
   "outputs": [
    {
     "data": {
      "text/html": [
       "<div>\n",
       "<style scoped>\n",
       "    .dataframe tbody tr th:only-of-type {\n",
       "        vertical-align: middle;\n",
       "    }\n",
       "\n",
       "    .dataframe tbody tr th {\n",
       "        vertical-align: top;\n",
       "    }\n",
       "\n",
       "    .dataframe thead th {\n",
       "        text-align: right;\n",
       "    }\n",
       "</style>\n",
       "<table border=\"1\" class=\"dataframe\">\n",
       "  <thead>\n",
       "    <tr style=\"text-align: right;\">\n",
       "      <th></th>\n",
       "      <th>cement</th>\n",
       "      <th>blast_furnace_slag</th>\n",
       "      <th>fly_ash</th>\n",
       "      <th>water</th>\n",
       "      <th>superplasticizer</th>\n",
       "      <th>coarse_aggregate</th>\n",
       "      <th>fine_aggregate</th>\n",
       "      <th>age</th>\n",
       "      <th>concrete_compressive_strength</th>\n",
       "    </tr>\n",
       "  </thead>\n",
       "  <tbody>\n",
       "    <tr>\n",
       "      <th>0</th>\n",
       "      <td>False</td>\n",
       "      <td>False</td>\n",
       "      <td>False</td>\n",
       "      <td>False</td>\n",
       "      <td>False</td>\n",
       "      <td>False</td>\n",
       "      <td>False</td>\n",
       "      <td>False</td>\n",
       "      <td>False</td>\n",
       "    </tr>\n",
       "    <tr>\n",
       "      <th>1</th>\n",
       "      <td>False</td>\n",
       "      <td>False</td>\n",
       "      <td>False</td>\n",
       "      <td>False</td>\n",
       "      <td>False</td>\n",
       "      <td>False</td>\n",
       "      <td>False</td>\n",
       "      <td>False</td>\n",
       "      <td>False</td>\n",
       "    </tr>\n",
       "    <tr>\n",
       "      <th>2</th>\n",
       "      <td>False</td>\n",
       "      <td>False</td>\n",
       "      <td>False</td>\n",
       "      <td>False</td>\n",
       "      <td>False</td>\n",
       "      <td>False</td>\n",
       "      <td>False</td>\n",
       "      <td>False</td>\n",
       "      <td>False</td>\n",
       "    </tr>\n",
       "    <tr>\n",
       "      <th>3</th>\n",
       "      <td>False</td>\n",
       "      <td>False</td>\n",
       "      <td>False</td>\n",
       "      <td>False</td>\n",
       "      <td>False</td>\n",
       "      <td>False</td>\n",
       "      <td>False</td>\n",
       "      <td>False</td>\n",
       "      <td>False</td>\n",
       "    </tr>\n",
       "    <tr>\n",
       "      <th>4</th>\n",
       "      <td>False</td>\n",
       "      <td>False</td>\n",
       "      <td>False</td>\n",
       "      <td>False</td>\n",
       "      <td>False</td>\n",
       "      <td>False</td>\n",
       "      <td>False</td>\n",
       "      <td>False</td>\n",
       "      <td>False</td>\n",
       "    </tr>\n",
       "    <tr>\n",
       "      <th>...</th>\n",
       "      <td>...</td>\n",
       "      <td>...</td>\n",
       "      <td>...</td>\n",
       "      <td>...</td>\n",
       "      <td>...</td>\n",
       "      <td>...</td>\n",
       "      <td>...</td>\n",
       "      <td>...</td>\n",
       "      <td>...</td>\n",
       "    </tr>\n",
       "    <tr>\n",
       "      <th>1025</th>\n",
       "      <td>False</td>\n",
       "      <td>False</td>\n",
       "      <td>False</td>\n",
       "      <td>False</td>\n",
       "      <td>False</td>\n",
       "      <td>False</td>\n",
       "      <td>False</td>\n",
       "      <td>False</td>\n",
       "      <td>False</td>\n",
       "    </tr>\n",
       "    <tr>\n",
       "      <th>1026</th>\n",
       "      <td>False</td>\n",
       "      <td>False</td>\n",
       "      <td>False</td>\n",
       "      <td>False</td>\n",
       "      <td>False</td>\n",
       "      <td>False</td>\n",
       "      <td>False</td>\n",
       "      <td>False</td>\n",
       "      <td>False</td>\n",
       "    </tr>\n",
       "    <tr>\n",
       "      <th>1027</th>\n",
       "      <td>False</td>\n",
       "      <td>False</td>\n",
       "      <td>False</td>\n",
       "      <td>False</td>\n",
       "      <td>False</td>\n",
       "      <td>False</td>\n",
       "      <td>False</td>\n",
       "      <td>False</td>\n",
       "      <td>False</td>\n",
       "    </tr>\n",
       "    <tr>\n",
       "      <th>1028</th>\n",
       "      <td>False</td>\n",
       "      <td>False</td>\n",
       "      <td>False</td>\n",
       "      <td>False</td>\n",
       "      <td>False</td>\n",
       "      <td>False</td>\n",
       "      <td>False</td>\n",
       "      <td>False</td>\n",
       "      <td>False</td>\n",
       "    </tr>\n",
       "    <tr>\n",
       "      <th>1029</th>\n",
       "      <td>False</td>\n",
       "      <td>False</td>\n",
       "      <td>False</td>\n",
       "      <td>False</td>\n",
       "      <td>False</td>\n",
       "      <td>False</td>\n",
       "      <td>False</td>\n",
       "      <td>False</td>\n",
       "      <td>False</td>\n",
       "    </tr>\n",
       "  </tbody>\n",
       "</table>\n",
       "<p>1005 rows × 9 columns</p>\n",
       "</div>"
      ],
      "text/plain": [
       "      cement  blast_furnace_slag  fly_ash  water  superplasticizer  \\\n",
       "0      False               False    False  False             False   \n",
       "1      False               False    False  False             False   \n",
       "2      False               False    False  False             False   \n",
       "3      False               False    False  False             False   \n",
       "4      False               False    False  False             False   \n",
       "...      ...                 ...      ...    ...               ...   \n",
       "1025   False               False    False  False             False   \n",
       "1026   False               False    False  False             False   \n",
       "1027   False               False    False  False             False   \n",
       "1028   False               False    False  False             False   \n",
       "1029   False               False    False  False             False   \n",
       "\n",
       "      coarse_aggregate  fine_aggregate     age  concrete_compressive_strength  \n",
       "0                False            False  False                          False  \n",
       "1                False            False  False                          False  \n",
       "2                False            False  False                          False  \n",
       "3                False            False  False                          False  \n",
       "4                False            False  False                          False  \n",
       "...                ...              ...    ...                            ...  \n",
       "1025             False            False  False                          False  \n",
       "1026             False            False  False                          False  \n",
       "1027             False            False  False                          False  \n",
       "1028             False            False  False                          False  \n",
       "1029             False            False  False                          False  \n",
       "\n",
       "[1005 rows x 9 columns]"
      ]
     },
     "execution_count": 15,
     "metadata": {},
     "output_type": "execute_result"
    }
   ],
   "source": [
    "data.isnull()"
   ]
  },
  {
   "cell_type": "code",
   "execution_count": 16,
   "id": "b0aea66f",
   "metadata": {},
   "outputs": [
    {
     "data": {
      "text/plain": [
       "cement                           0\n",
       "blast_furnace_slag               0\n",
       "fly_ash                          0\n",
       "water                            0\n",
       "superplasticizer                 0\n",
       "coarse_aggregate                 0\n",
       "fine_aggregate                   0\n",
       "age                              0\n",
       "concrete_compressive_strength    0\n",
       "dtype: int64"
      ]
     },
     "execution_count": 16,
     "metadata": {},
     "output_type": "execute_result"
    }
   ],
   "source": [
    "data.isnull().sum()"
   ]
  },
  {
   "cell_type": "markdown",
   "id": "378fb072",
   "metadata": {},
   "source": [
    "No missing values present in our data"
   ]
  },
  {
   "cell_type": "markdown",
   "id": "7239595c",
   "metadata": {},
   "source": [
    "## Outliers Treatment"
   ]
  },
  {
   "cell_type": "markdown",
   "id": "5fdaad69",
   "metadata": {},
   "source": [
    "- Method-1 : Delete the oultier records. Only if there are few rows lost. \n",
    "- Method-2 : Impute the outliers with some business logic."
   ]
  },
  {
   "cell_type": "raw",
   "id": "69f1c1f5",
   "metadata": {},
   "source": [
    " No outliers present in our data. So we can skip this part."
   ]
  },
  {
   "cell_type": "code",
   "execution_count": 17,
   "id": "366ff7c8",
   "metadata": {},
   "outputs": [],
   "source": [
    "continuous = ['cement','blast_furnace_slag','fly_ash','water','superplasticizer','coarse_aggregate','fine_aggregate ','age']"
   ]
  },
  {
   "cell_type": "code",
   "execution_count": 18,
   "id": "08a19052",
   "metadata": {},
   "outputs": [
    {
     "data": {
      "image/png": "[encoded data removed]",
      "text/plain": [
       "<Figure size 720x360 with 1 Axes>"
      ]
     },
     "metadata": {
      "needs_background": "light"
     },
     "output_type": "display_data"
    },
    {
     "data": {
      "image/png": "[encoded data removed]",
      "text/plain": [
       "<Figure size 720x360 with 1 Axes>"
      ]
     },
     "metadata": {
      "needs_background": "light"
     },
     "output_type": "display_data"
    },
    {
     "data": {
      "image/png": "[encoded data removed]",
      "text/plain": [
       "<Figure size 720x360 with 1 Axes>"
      ]
     },
     "metadata": {
      "needs_background": "light"
     },
     "output_type": "display_data"
    },
    {
     "data": {
      "image/png": "[encoded data removed]",
      "text/plain": [
       "<Figure size 720x360 with 1 Axes>"
      ]
     },
     "metadata": {
      "needs_background": "light"
     },
     "output_type": "display_data"
    },
    {
     "data": {
      "image/png": "[encoded data removed]",
      "text/plain": [
       "<Figure size 720x360 with 1 Axes>"
      ]
     },
     "metadata": {
      "needs_background": "light"
     },
     "output_type": "display_data"
    },
    {
     "data": {
      "image/png": "[encoded data removed]",
      "text/plain": [
       "<Figure size 720x360 with 1 Axes>"
      ]
     },
     "metadata": {
      "needs_background": "light"
     },
     "output_type": "display_data"
    },
    {
     "data": {
      "image/png": "[encoded data removed]",
      "text/plain": [
       "<Figure size 720x360 with 1 Axes>"
      ]
     },
     "metadata": {
      "needs_background": "light"
     },
     "output_type": "display_data"
    },
    {
     "data": {
      "image/png": "[encoded data removed]",
      "text/plain": [
       "<Figure size 720x360 with 1 Axes>"
      ]
     },
     "metadata": {
      "needs_background": "light"
     },
     "output_type": "display_data"
    }
   ],
   "source": [
    "for pred in continuous:\n",
    "    data.plot.scatter(x=pred, y='concrete_compressive_strength',figsize=(10,5),title=pred+\" Vs \"+\"Strength\")"
   ]
  },
  {
   "cell_type": "code",
   "execution_count": 19,
   "id": "f74a43ef",
   "metadata": {},
   "outputs": [],
   "source": [
    "continuousCols = ['concrete_compressive_strength','cement','blast_furnace_slag','fly_ash','water','superplasticizer','coarse_aggregate','fine_aggregate ','age']\n",
    "corr = data[continuousCols].corr()  #Creating "
   ]
  },
  {
   "cell_type": "code",
   "execution_count": 20,
   "id": "07b80ceb",
   "metadata": {},
   "outputs": [
    {
     "data": {
      "text/html": [
       "<div>\n",
       "<style scoped>\n",
       "    .dataframe tbody tr th:only-of-type {\n",
       "        vertical-align: middle;\n",
       "    }\n",
       "\n",
       "    .dataframe tbody tr th {\n",
       "        vertical-align: top;\n",
       "    }\n",
       "\n",
       "    .dataframe thead th {\n",
       "        text-align: right;\n",
       "    }\n",
       "</style>\n",
       "<table border=\"1\" class=\"dataframe\">\n",
       "  <thead>\n",
       "    <tr style=\"text-align: right;\">\n",
       "      <th></th>\n",
       "      <th>concrete_compressive_strength</th>\n",
       "      <th>cement</th>\n",
       "      <th>blast_furnace_slag</th>\n",
       "      <th>fly_ash</th>\n",
       "      <th>water</th>\n",
       "      <th>superplasticizer</th>\n",
       "      <th>coarse_aggregate</th>\n",
       "      <th>fine_aggregate</th>\n",
       "      <th>age</th>\n",
       "    </tr>\n",
       "  </thead>\n",
       "  <tbody>\n",
       "    <tr>\n",
       "      <th>concrete_compressive_strength</th>\n",
       "      <td>1.000000</td>\n",
       "      <td>0.488283</td>\n",
       "      <td>0.103374</td>\n",
       "      <td>-0.080648</td>\n",
       "      <td>-0.269624</td>\n",
       "      <td>0.344209</td>\n",
       "      <td>-0.144717</td>\n",
       "      <td>-0.186448</td>\n",
       "      <td>0.337367</td>\n",
       "    </tr>\n",
       "    <tr>\n",
       "      <th>cement</th>\n",
       "      <td>0.488283</td>\n",
       "      <td>1.000000</td>\n",
       "      <td>-0.303324</td>\n",
       "      <td>-0.385610</td>\n",
       "      <td>-0.056625</td>\n",
       "      <td>0.060906</td>\n",
       "      <td>-0.086205</td>\n",
       "      <td>-0.245375</td>\n",
       "      <td>0.086348</td>\n",
       "    </tr>\n",
       "    <tr>\n",
       "      <th>blast_furnace_slag</th>\n",
       "      <td>0.103374</td>\n",
       "      <td>-0.303324</td>\n",
       "      <td>1.000000</td>\n",
       "      <td>-0.312352</td>\n",
       "      <td>0.130262</td>\n",
       "      <td>0.019800</td>\n",
       "      <td>-0.277559</td>\n",
       "      <td>-0.289685</td>\n",
       "      <td>-0.042759</td>\n",
       "    </tr>\n",
       "    <tr>\n",
       "      <th>fly_ash</th>\n",
       "      <td>-0.080648</td>\n",
       "      <td>-0.385610</td>\n",
       "      <td>-0.312352</td>\n",
       "      <td>1.000000</td>\n",
       "      <td>-0.283314</td>\n",
       "      <td>0.414213</td>\n",
       "      <td>-0.026468</td>\n",
       "      <td>0.090262</td>\n",
       "      <td>-0.158940</td>\n",
       "    </tr>\n",
       "    <tr>\n",
       "      <th>water</th>\n",
       "      <td>-0.269624</td>\n",
       "      <td>-0.056625</td>\n",
       "      <td>0.130262</td>\n",
       "      <td>-0.283314</td>\n",
       "      <td>1.000000</td>\n",
       "      <td>-0.646946</td>\n",
       "      <td>-0.212480</td>\n",
       "      <td>-0.444915</td>\n",
       "      <td>0.279284</td>\n",
       "    </tr>\n",
       "    <tr>\n",
       "      <th>superplasticizer</th>\n",
       "      <td>0.344209</td>\n",
       "      <td>0.060906</td>\n",
       "      <td>0.019800</td>\n",
       "      <td>0.414213</td>\n",
       "      <td>-0.646946</td>\n",
       "      <td>1.000000</td>\n",
       "      <td>-0.241721</td>\n",
       "      <td>0.207993</td>\n",
       "      <td>-0.194076</td>\n",
       "    </tr>\n",
       "    <tr>\n",
       "      <th>coarse_aggregate</th>\n",
       "      <td>-0.144717</td>\n",
       "      <td>-0.086205</td>\n",
       "      <td>-0.277559</td>\n",
       "      <td>-0.026468</td>\n",
       "      <td>-0.212480</td>\n",
       "      <td>-0.241721</td>\n",
       "      <td>1.000000</td>\n",
       "      <td>-0.162187</td>\n",
       "      <td>-0.005264</td>\n",
       "    </tr>\n",
       "    <tr>\n",
       "      <th>fine_aggregate</th>\n",
       "      <td>-0.186448</td>\n",
       "      <td>-0.245375</td>\n",
       "      <td>-0.289685</td>\n",
       "      <td>0.090262</td>\n",
       "      <td>-0.444915</td>\n",
       "      <td>0.207993</td>\n",
       "      <td>-0.162187</td>\n",
       "      <td>1.000000</td>\n",
       "      <td>-0.156572</td>\n",
       "    </tr>\n",
       "    <tr>\n",
       "      <th>age</th>\n",
       "      <td>0.337367</td>\n",
       "      <td>0.086348</td>\n",
       "      <td>-0.042759</td>\n",
       "      <td>-0.158940</td>\n",
       "      <td>0.279284</td>\n",
       "      <td>-0.194076</td>\n",
       "      <td>-0.005264</td>\n",
       "      <td>-0.156572</td>\n",
       "      <td>1.000000</td>\n",
       "    </tr>\n",
       "  </tbody>\n",
       "</table>\n",
       "</div>"
      ],
      "text/plain": [
       "                               concrete_compressive_strength    cement  \\\n",
       "concrete_compressive_strength                       1.000000  0.488283   \n",
       "cement                                              0.488283  1.000000   \n",
       "blast_furnace_slag                                  0.103374 -0.303324   \n",
       "fly_ash                                            -0.080648 -0.385610   \n",
       "water                                              -0.269624 -0.056625   \n",
       "superplasticizer                                    0.344209  0.060906   \n",
       "coarse_aggregate                                   -0.144717 -0.086205   \n",
       "fine_aggregate                                     -0.186448 -0.245375   \n",
       "age                                                 0.337367  0.086348   \n",
       "\n",
       "                               blast_furnace_slag   fly_ash     water  \\\n",
       "concrete_compressive_strength            0.103374 -0.080648 -0.269624   \n",
       "cement                                  -0.303324 -0.385610 -0.056625   \n",
       "blast_furnace_slag                       1.000000 -0.312352  0.130262   \n",
       "fly_ash                                 -0.312352  1.000000 -0.283314   \n",
       "water                                    0.130262 -0.283314  1.000000   \n",
       "superplasticizer                         0.019800  0.414213 -0.646946   \n",
       "coarse_aggregate                        -0.277559 -0.026468 -0.212480   \n",
       "fine_aggregate                          -0.289685  0.090262 -0.444915   \n",
       "age                                     -0.042759 -0.158940  0.279284   \n",
       "\n",
       "                               superplasticizer  coarse_aggregate  \\\n",
       "concrete_compressive_strength          0.344209         -0.144717   \n",
       "cement                                 0.060906         -0.086205   \n",
       "blast_furnace_slag                     0.019800         -0.277559   \n",
       "fly_ash                                0.414213         -0.026468   \n",
       "water                                 -0.646946         -0.212480   \n",
       "superplasticizer                       1.000000         -0.241721   \n",
       "coarse_aggregate                      -0.241721          1.000000   \n",
       "fine_aggregate                         0.207993         -0.162187   \n",
       "age                                   -0.194076         -0.005264   \n",
       "\n",
       "                               fine_aggregate        age  \n",
       "concrete_compressive_strength        -0.186448  0.337367  \n",
       "cement                               -0.245375  0.086348  \n",
       "blast_furnace_slag                   -0.289685 -0.042759  \n",
       "fly_ash                               0.090262 -0.158940  \n",
       "water                                -0.444915  0.279284  \n",
       "superplasticizer                      0.207993 -0.194076  \n",
       "coarse_aggregate                     -0.162187 -0.005264  \n",
       "fine_aggregate                        1.000000 -0.156572  \n",
       "age                                  -0.156572  1.000000  "
      ]
     },
     "execution_count": 20,
     "metadata": {},
     "output_type": "execute_result"
    }
   ],
   "source": [
    "corr"
   ]
  },
  {
   "cell_type": "markdown",
   "id": "838e2fc4",
   "metadata": {},
   "source": [
    "Filtering only those columns whose correlation is > 0.5 with the target variable but as there are no columns whose correlation is > 0.5 rather than strength column itself, we are reducing our threshold to 0.3"
   ]
  },
  {
   "cell_type": "code",
   "execution_count": 21,
   "id": "91268fd2",
   "metadata": {},
   "outputs": [
    {
     "data": {
      "text/plain": [
       "concrete_compressive_strength    1.000000\n",
       "cement                           0.488283\n",
       "superplasticizer                 0.344209\n",
       "age                              0.337367\n",
       "Name: concrete_compressive_strength, dtype: float64"
      ]
     },
     "execution_count": 21,
     "metadata": {},
     "output_type": "execute_result"
    }
   ],
   "source": [
    "corr['concrete_compressive_strength'][abs(corr['concrete_compressive_strength']>0.3)]"
   ]
  },
  {
   "cell_type": "markdown",
   "id": "15932e2c",
   "metadata": {},
   "source": [
    "Final Selected Columns:\n",
    "Cement, Superplasticizer, Age with respect to concrete_compressive_strength"
   ]
  },
  {
   "cell_type": "code",
   "execution_count": 22,
   "id": "5bb94c4d",
   "metadata": {},
   "outputs": [
    {
     "data": {
      "text/html": [
       "<div>\n",
       "<style scoped>\n",
       "    .dataframe tbody tr th:only-of-type {\n",
       "        vertical-align: middle;\n",
       "    }\n",
       "\n",
       "    .dataframe tbody tr th {\n",
       "        vertical-align: top;\n",
       "    }\n",
       "\n",
       "    .dataframe thead th {\n",
       "        text-align: right;\n",
       "    }\n",
       "</style>\n",
       "<table border=\"1\" class=\"dataframe\">\n",
       "  <thead>\n",
       "    <tr style=\"text-align: right;\">\n",
       "      <th></th>\n",
       "      <th>cement</th>\n",
       "      <th>superplasticizer</th>\n",
       "      <th>age</th>\n",
       "    </tr>\n",
       "  </thead>\n",
       "  <tbody>\n",
       "    <tr>\n",
       "      <th>0</th>\n",
       "      <td>540.0</td>\n",
       "      <td>2.5</td>\n",
       "      <td>28</td>\n",
       "    </tr>\n",
       "    <tr>\n",
       "      <th>1</th>\n",
       "      <td>540.0</td>\n",
       "      <td>2.5</td>\n",
       "      <td>28</td>\n",
       "    </tr>\n",
       "    <tr>\n",
       "      <th>2</th>\n",
       "      <td>332.5</td>\n",
       "      <td>0.0</td>\n",
       "      <td>270</td>\n",
       "    </tr>\n",
       "    <tr>\n",
       "      <th>3</th>\n",
       "      <td>332.5</td>\n",
       "      <td>0.0</td>\n",
       "      <td>365</td>\n",
       "    </tr>\n",
       "    <tr>\n",
       "      <th>4</th>\n",
       "      <td>198.6</td>\n",
       "      <td>0.0</td>\n",
       "      <td>360</td>\n",
       "    </tr>\n",
       "    <tr>\n",
       "      <th>...</th>\n",
       "      <td>...</td>\n",
       "      <td>...</td>\n",
       "      <td>...</td>\n",
       "    </tr>\n",
       "    <tr>\n",
       "      <th>1025</th>\n",
       "      <td>276.4</td>\n",
       "      <td>8.9</td>\n",
       "      <td>28</td>\n",
       "    </tr>\n",
       "    <tr>\n",
       "      <th>1026</th>\n",
       "      <td>322.2</td>\n",
       "      <td>10.4</td>\n",
       "      <td>28</td>\n",
       "    </tr>\n",
       "    <tr>\n",
       "      <th>1027</th>\n",
       "      <td>148.5</td>\n",
       "      <td>6.1</td>\n",
       "      <td>28</td>\n",
       "    </tr>\n",
       "    <tr>\n",
       "      <th>1028</th>\n",
       "      <td>159.1</td>\n",
       "      <td>11.3</td>\n",
       "      <td>28</td>\n",
       "    </tr>\n",
       "    <tr>\n",
       "      <th>1029</th>\n",
       "      <td>260.9</td>\n",
       "      <td>8.6</td>\n",
       "      <td>28</td>\n",
       "    </tr>\n",
       "  </tbody>\n",
       "</table>\n",
       "<p>1005 rows × 3 columns</p>\n",
       "</div>"
      ],
      "text/plain": [
       "      cement  superplasticizer  age\n",
       "0      540.0               2.5   28\n",
       "1      540.0               2.5   28\n",
       "2      332.5               0.0  270\n",
       "3      332.5               0.0  365\n",
       "4      198.6               0.0  360\n",
       "...      ...               ...  ...\n",
       "1025   276.4               8.9   28\n",
       "1026   322.2              10.4   28\n",
       "1027   148.5               6.1   28\n",
       "1028   159.1              11.3   28\n",
       "1029   260.9               8.6   28\n",
       "\n",
       "[1005 rows x 3 columns]"
      ]
     },
     "execution_count": 22,
     "metadata": {},
     "output_type": "execute_result"
    }
   ],
   "source": [
    "selected_col = ['cement','superplasticizer','age']\n",
    "\n",
    "data[selected_col]  # Selecting final columns\n"
   ]
  },
  {
   "cell_type": "markdown",
   "id": "e368c2ff",
   "metadata": {},
   "source": [
    "## Data Pre-Processing steps for ML"
   ]
  },
  {
   "cell_type": "markdown",
   "id": "ebdc1154",
   "metadata": {},
   "source": [
    "List of steps performed on predictor variables before data can be used for Machine Learning\n",
    "\n",
    "1. Converting each ordinal categorical columns to numeric\n",
    "2. Converting binary nominal categorical columns to numeric using 1/0 mapping\n",
    "3. Converting all other nominal categorical columns to numeric using pd.get_dummies()\n",
    "4. Data transformation (Optional): Standardization/Normalization of columns -->Important for Algo. like KNN,Neural Networks\n",
    "\n",
    "In this data there is no ordinal categorical variable which is in string format"
   ]
  },
  {
   "cell_type": "code",
   "execution_count": 23,
   "id": "6950b05c",
   "metadata": {},
   "outputs": [],
   "source": [
    "## Converting the nominal variables to numeric using get_dummies() method\n",
    "\n",
    "# Treating all nominal variables at once  using dummy variables\n",
    "\n",
    "data_numeric = pd.get_dummies(data[selected_col])"
   ]
  },
  {
   "cell_type": "code",
   "execution_count": 24,
   "id": "71f60348",
   "metadata": {},
   "outputs": [
    {
     "data": {
      "text/html": [
       "<div>\n",
       "<style scoped>\n",
       "    .dataframe tbody tr th:only-of-type {\n",
       "        vertical-align: middle;\n",
       "    }\n",
       "\n",
       "    .dataframe tbody tr th {\n",
       "        vertical-align: top;\n",
       "    }\n",
       "\n",
       "    .dataframe thead th {\n",
       "        text-align: right;\n",
       "    }\n",
       "</style>\n",
       "<table border=\"1\" class=\"dataframe\">\n",
       "  <thead>\n",
       "    <tr style=\"text-align: right;\">\n",
       "      <th></th>\n",
       "      <th>cement</th>\n",
       "      <th>superplasticizer</th>\n",
       "      <th>age</th>\n",
       "    </tr>\n",
       "  </thead>\n",
       "  <tbody>\n",
       "    <tr>\n",
       "      <th>0</th>\n",
       "      <td>540.0</td>\n",
       "      <td>2.5</td>\n",
       "      <td>28</td>\n",
       "    </tr>\n",
       "    <tr>\n",
       "      <th>1</th>\n",
       "      <td>540.0</td>\n",
       "      <td>2.5</td>\n",
       "      <td>28</td>\n",
       "    </tr>\n",
       "    <tr>\n",
       "      <th>2</th>\n",
       "      <td>332.5</td>\n",
       "      <td>0.0</td>\n",
       "      <td>270</td>\n",
       "    </tr>\n",
       "    <tr>\n",
       "      <th>3</th>\n",
       "      <td>332.5</td>\n",
       "      <td>0.0</td>\n",
       "      <td>365</td>\n",
       "    </tr>\n",
       "    <tr>\n",
       "      <th>4</th>\n",
       "      <td>198.6</td>\n",
       "      <td>0.0</td>\n",
       "      <td>360</td>\n",
       "    </tr>\n",
       "    <tr>\n",
       "      <th>...</th>\n",
       "      <td>...</td>\n",
       "      <td>...</td>\n",
       "      <td>...</td>\n",
       "    </tr>\n",
       "    <tr>\n",
       "      <th>1025</th>\n",
       "      <td>276.4</td>\n",
       "      <td>8.9</td>\n",
       "      <td>28</td>\n",
       "    </tr>\n",
       "    <tr>\n",
       "      <th>1026</th>\n",
       "      <td>322.2</td>\n",
       "      <td>10.4</td>\n",
       "      <td>28</td>\n",
       "    </tr>\n",
       "    <tr>\n",
       "      <th>1027</th>\n",
       "      <td>148.5</td>\n",
       "      <td>6.1</td>\n",
       "      <td>28</td>\n",
       "    </tr>\n",
       "    <tr>\n",
       "      <th>1028</th>\n",
       "      <td>159.1</td>\n",
       "      <td>11.3</td>\n",
       "      <td>28</td>\n",
       "    </tr>\n",
       "    <tr>\n",
       "      <th>1029</th>\n",
       "      <td>260.9</td>\n",
       "      <td>8.6</td>\n",
       "      <td>28</td>\n",
       "    </tr>\n",
       "  </tbody>\n",
       "</table>\n",
       "<p>1005 rows × 3 columns</p>\n",
       "</div>"
      ],
      "text/plain": [
       "      cement  superplasticizer  age\n",
       "0      540.0               2.5   28\n",
       "1      540.0               2.5   28\n",
       "2      332.5               0.0  270\n",
       "3      332.5               0.0  365\n",
       "4      198.6               0.0  360\n",
       "...      ...               ...  ...\n",
       "1025   276.4               8.9   28\n",
       "1026   322.2              10.4   28\n",
       "1027   148.5               6.1   28\n",
       "1028   159.1              11.3   28\n",
       "1029   260.9               8.6   28\n",
       "\n",
       "[1005 rows x 3 columns]"
      ]
     },
     "execution_count": 24,
     "metadata": {},
     "output_type": "execute_result"
    }
   ],
   "source": [
    "data_numeric"
   ]
  },
  {
   "cell_type": "code",
   "execution_count": 25,
   "id": "fc799191",
   "metadata": {},
   "outputs": [],
   "source": [
    "data_numeric['Strength'] = data['concrete_compressive_strength']"
   ]
  },
  {
   "cell_type": "code",
   "execution_count": 26,
   "id": "de33c643",
   "metadata": {},
   "outputs": [
    {
     "data": {
      "text/html": [
       "<div>\n",
       "<style scoped>\n",
       "    .dataframe tbody tr th:only-of-type {\n",
       "        vertical-align: middle;\n",
       "    }\n",
       "\n",
       "    .dataframe tbody tr th {\n",
       "        vertical-align: top;\n",
       "    }\n",
       "\n",
       "    .dataframe thead th {\n",
       "        text-align: right;\n",
       "    }\n",
       "</style>\n",
       "<table border=\"1\" class=\"dataframe\">\n",
       "  <thead>\n",
       "    <tr style=\"text-align: right;\">\n",
       "      <th></th>\n",
       "      <th>cement</th>\n",
       "      <th>superplasticizer</th>\n",
       "      <th>age</th>\n",
       "      <th>Strength</th>\n",
       "    </tr>\n",
       "  </thead>\n",
       "  <tbody>\n",
       "    <tr>\n",
       "      <th>0</th>\n",
       "      <td>540.0</td>\n",
       "      <td>2.5</td>\n",
       "      <td>28</td>\n",
       "      <td>79.99</td>\n",
       "    </tr>\n",
       "    <tr>\n",
       "      <th>1</th>\n",
       "      <td>540.0</td>\n",
       "      <td>2.5</td>\n",
       "      <td>28</td>\n",
       "      <td>61.89</td>\n",
       "    </tr>\n",
       "    <tr>\n",
       "      <th>2</th>\n",
       "      <td>332.5</td>\n",
       "      <td>0.0</td>\n",
       "      <td>270</td>\n",
       "      <td>40.27</td>\n",
       "    </tr>\n",
       "    <tr>\n",
       "      <th>3</th>\n",
       "      <td>332.5</td>\n",
       "      <td>0.0</td>\n",
       "      <td>365</td>\n",
       "      <td>41.05</td>\n",
       "    </tr>\n",
       "    <tr>\n",
       "      <th>4</th>\n",
       "      <td>198.6</td>\n",
       "      <td>0.0</td>\n",
       "      <td>360</td>\n",
       "      <td>44.30</td>\n",
       "    </tr>\n",
       "  </tbody>\n",
       "</table>\n",
       "</div>"
      ],
      "text/plain": [
       "   cement  superplasticizer  age  Strength\n",
       "0   540.0               2.5   28     79.99\n",
       "1   540.0               2.5   28     61.89\n",
       "2   332.5               0.0  270     40.27\n",
       "3   332.5               0.0  365     41.05\n",
       "4   198.6               0.0  360     44.30"
      ]
     },
     "execution_count": 26,
     "metadata": {},
     "output_type": "execute_result"
    }
   ],
   "source": [
    "data_numeric.head()"
   ]
  },
  {
   "cell_type": "markdown",
   "id": "73196403",
   "metadata": {},
   "source": [
    "## Splitting the variable into train and test data"
   ]
  },
  {
   "cell_type": "code",
   "execution_count": 27,
   "id": "435e15fd",
   "metadata": {},
   "outputs": [],
   "source": [
    "target = 'Strength'\n",
    "predictor = ['cement','superplasticizer','age']\n",
    "\n",
    "X = data_numeric[predictor].values\n",
    "y = data_numeric[target].values\n",
    "\n",
    "from sklearn.model_selection import train_test_split\n",
    "\n",
    "X_train, X_test, y_train, y_test = train_test_split(X,y,test_size = 0.3, random_state=21)"
   ]
  },
  {
   "cell_type": "code",
   "execution_count": 28,
   "id": "d605256f",
   "metadata": {},
   "outputs": [
    {
     "data": {
      "text/plain": [
       "((703, 3), (703,))"
      ]
     },
     "execution_count": 28,
     "metadata": {},
     "output_type": "execute_result"
    }
   ],
   "source": [
    "X_train.shape,y_train.shape"
   ]
  },
  {
   "cell_type": "code",
   "execution_count": 29,
   "id": "f544fc20",
   "metadata": {},
   "outputs": [
    {
     "data": {
      "text/plain": [
       "((302, 3), (302,))"
      ]
     },
     "execution_count": 29,
     "metadata": {},
     "output_type": "execute_result"
    }
   ],
   "source": [
    "X_test.shape,y_test.shape"
   ]
  },
  {
   "cell_type": "code",
   "execution_count": 30,
   "id": "a4a41bb0",
   "metadata": {},
   "outputs": [],
   "source": [
    "from sklearn.ensemble import RandomForestRegressor\n",
    "model = RandomForestRegressor(max_depth = 5,n_estimators= 100)"
   ]
  },
  {
   "cell_type": "code",
   "execution_count": 31,
   "id": "b2f94665",
   "metadata": {},
   "outputs": [],
   "source": [
    "rf = model.fit(X_train,y_train)\n",
    "prediction = rf.predict(X_test)"
   ]
  },
  {
   "cell_type": "code",
   "execution_count": 32,
   "id": "dac1dfaa",
   "metadata": {},
   "outputs": [],
   "source": [
    "from sklearn import metrics"
   ]
  },
  {
   "cell_type": "code",
   "execution_count": 33,
   "id": "303cf0fb",
   "metadata": {},
   "outputs": [
    {
     "name": "stdout",
     "output_type": "stream",
     "text": [
      "R2 Value: 0.7932935727388619\n"
     ]
    }
   ],
   "source": [
    "# Measuring goodness of the model fit in Training data\n",
    "print('R2 Value:',metrics.r2_score(y_train,rf.predict(X_train)))"
   ]
  },
  {
   "cell_type": "code",
   "execution_count": 34,
   "id": "bb028ff9",
   "metadata": {},
   "outputs": [
    {
     "data": {
      "text/plain": [
       "array([43.07799847, 27.2576594 , 32.78598531, 31.70350044, 43.32527939,\n",
       "       40.26815217, 44.16413724, 62.70943566, 43.5384097 , 42.92757892,\n",
       "       60.81222385, 31.51346513, 28.48424907, 31.62474256, 12.95863584,\n",
       "       48.3659719 , 13.62830896, 31.62474256, 28.87229722, 41.2709481 ,\n",
       "       30.90302018, 17.73704   , 38.52785157, 26.81518355, 37.94565444,\n",
       "       13.69481687, 31.48250474, 61.4453886 , 23.15319335, 25.73322653,\n",
       "       28.47323322, 49.50849641, 14.41256847, 24.33139053, 50.01610015,\n",
       "       40.26664139, 59.59000777, 39.82781186, 39.64153305, 39.76683283,\n",
       "       37.5574774 , 11.39875664, 24.15906851, 30.41515447, 33.11365331,\n",
       "       28.41717171, 33.18127935, 40.003463  , 31.72707334, 40.35914682,\n",
       "       63.13705372, 33.11365331, 26.9752427 , 13.83221672, 35.42433653,\n",
       "       62.33707167, 18.80582472, 15.98125219, 49.94604879, 38.5788412 ,\n",
       "       36.31474273,  8.47467515, 39.55708248, 47.2499809 , 57.93414622,\n",
       "       60.24589592, 13.95224402, 12.95863584, 41.42591492, 41.71982356,\n",
       "       17.47452891, 14.65225659, 51.13914417, 38.5788412 , 14.50390876,\n",
       "       40.27051819, 37.19520992, 38.65772474, 44.62047589, 40.55257312,\n",
       "       32.273288  , 25.90464315, 14.03661417, 32.273288  , 55.38923926,\n",
       "       36.27223131, 14.94136713, 11.39875664, 26.1825845 , 34.2874206 ,\n",
       "       27.93313431, 23.90333085, 59.58073298, 24.06180374, 48.32923528,\n",
       "       40.13907437, 59.86662281, 32.273288  , 60.22365004, 30.41342705,\n",
       "       41.17233381, 26.51047765, 40.74193116, 33.11365331, 42.92757892,\n",
       "       34.29697995, 23.90333085, 40.65798093, 40.82142109, 41.50481448,\n",
       "       12.55535623, 27.04687937, 48.95457634, 56.24181258, 49.35051966,\n",
       "       47.45021916, 38.95550707, 18.80582472, 16.56730141, 42.30179502,\n",
       "       32.72512637, 59.11724303, 22.94039582, 37.77025771, 31.70350044,\n",
       "       60.14024188, 52.72054415, 48.65705322, 20.78778079, 51.54482841,\n",
       "       16.01204233, 25.26976403, 25.49769954, 12.72846323, 21.94546885,\n",
       "       25.90021421, 12.90465835, 41.25866431, 23.45242336, 57.88456557,\n",
       "       11.31910778, 58.13427944, 38.55555986, 24.28798598, 39.34570353,\n",
       "       57.37064148, 17.47452891, 43.63147943, 33.98363214, 44.16413724,\n",
       "       23.73419   , 44.16413724, 40.65798093, 39.69399978, 39.66068152,\n",
       "       27.6932414 , 59.75313959, 24.41638423, 50.84478945, 15.92761785,\n",
       "       26.74208008, 40.90065563, 35.34813651, 31.62474256, 32.13316746,\n",
       "       17.99051289, 39.73661232, 62.217135  , 35.53530755, 39.2479406 ,\n",
       "       58.97371741, 62.8356527 , 27.00862678, 24.36745815, 10.60989582,\n",
       "       44.28299434, 31.34543705, 25.80358504, 63.68101291, 38.11124391,\n",
       "       43.91273474, 40.94285279, 24.34692126, 40.59284661, 48.65705322,\n",
       "        8.47467515, 35.61188713, 40.50201855, 50.16574721, 40.13907437,\n",
       "       40.81181853, 63.39495327, 23.90333085, 23.15319335, 32.273288  ,\n",
       "       39.51654124, 57.71964432, 62.49098368, 33.98363214, 23.90333085,\n",
       "       49.20150214, 58.57281217, 43.46633706, 60.63560958, 34.81506236,\n",
       "       25.50781283, 15.16962123, 12.48738682, 34.16318259, 41.48684434,\n",
       "       53.82403946, 50.63567931, 40.0844729 , 36.90574769, 39.74802109,\n",
       "       40.35683141, 15.98125219, 45.89153902, 31.70350044, 55.70333452,\n",
       "       13.76438066, 35.40079511, 26.41586208, 32.273288  , 40.65798093,\n",
       "       51.51624639, 54.58423343, 40.56922665, 36.04914829, 57.16273296,\n",
       "       14.90315672, 38.05277091, 27.37547392,  8.39502628, 36.67504012,\n",
       "       43.4900221 , 37.66795885, 30.09563719, 38.45556315, 59.15088954,\n",
       "       39.70616702, 40.17009807, 26.51038377, 35.42433653, 24.31196096,\n",
       "       15.72559559, 24.41638423, 38.9696078 , 26.74208008, 28.48242069,\n",
       "       43.85593535, 36.35957089, 40.50409234, 30.3988423 , 46.99636762,\n",
       "       31.62474256, 31.51346513, 43.66467353, 50.00069583, 31.62474256,\n",
       "       37.8228096 , 55.38923926, 14.50390876, 18.80582472, 12.31869444,\n",
       "       28.75119294, 29.92656219, 39.62196515, 36.82216351, 48.45948149,\n",
       "       23.86642524, 40.04212739, 39.62487953, 40.01669522, 25.41908037,\n",
       "       48.53160421, 25.90176883, 37.31961286, 42.87212656, 63.58342138,\n",
       "       15.99049224, 32.74569735, 25.90464315, 16.59814738, 24.72000256,\n",
       "       37.74010828, 32.273288  , 37.22439672, 31.48250474, 39.70616702,\n",
       "       40.01069988, 55.28166677, 34.59239433, 51.15604574, 39.6722193 ,\n",
       "       28.19891596, 38.73556046, 40.08484365, 38.5788412 , 40.3551758 ,\n",
       "       58.5486323 , 39.78271376])"
      ]
     },
     "execution_count": 34,
     "metadata": {},
     "output_type": "execute_result"
    }
   ],
   "source": [
    "prediction"
   ]
  },
  {
   "cell_type": "code",
   "execution_count": 35,
   "id": "d2144fb8",
   "metadata": {},
   "outputs": [],
   "source": [
    "feature_imp = pd.Series(rf.feature_importances_,index= predictor)"
   ]
  },
  {
   "cell_type": "markdown",
   "id": "cd928880",
   "metadata": {},
   "source": [
    "feature_imp"
   ]
  },
  {
   "cell_type": "code",
   "execution_count": 36,
   "id": "b25fe03c",
   "metadata": {},
   "outputs": [
    {
     "data": {
      "text/plain": [
       "<AxesSubplot:>"
      ]
     },
     "execution_count": 36,
     "metadata": {},
     "output_type": "execute_result"
    },
    {
     "data": {
      "image/png": "[encoded data removed]",
      "text/plain": [
       "<Figure size 432x288 with 1 Axes>"
      ]
     },
     "metadata": {
      "needs_background": "light"
     },
     "output_type": "display_data"
    }
   ],
   "source": [
    "feature_imp.nlargest(10).plot(kind='barh')"
   ]
  },
  {
   "cell_type": "markdown",
   "id": "011e6982",
   "metadata": {},
   "source": [
    "Here in Random Forest we can see that Age factor is the most important feature which is affecting the strength of the concrete"
   ]
  },
  {
   "cell_type": "code",
   "execution_count": 37,
   "id": "80e24159",
   "metadata": {},
   "outputs": [
    {
     "name": "stdout",
     "output_type": "stream",
     "text": [
      "   Strength  PredictedStrength\n",
      "0     47.13               43.0\n",
      "1     18.20               27.0\n",
      "2     24.48               33.0\n",
      "3     19.69               32.0\n",
      "4     61.24               43.0\n"
     ]
    }
   ],
   "source": [
    "# Printing some sample values of prediction\n",
    "\n",
    "TestingDataRes = pd.DataFrame(data= X_test,columns=predictor)\n",
    "TestingDataRes[target] = y_test\n",
    "TestingDataRes[('Predicted' + target)] = np.round(prediction)\n",
    "print(TestingDataRes[[target,'Predicted' + target]].head())"
   ]
  },
  {
   "cell_type": "markdown",
   "id": "206de453",
   "metadata": {},
   "source": [
    " As the Predicted strength is not as expected ones we can try some hypertuning or error calculation or at last can take other model as best one."
   ]
  },
  {
   "cell_type": "code",
   "execution_count": 38,
   "id": "8c68f1d3",
   "metadata": {},
   "outputs": [],
   "source": [
    "TestingDataRes['APE'] = 100 * ((abs(TestingDataRes['Strength']-TestingDataRes['PredictedStrength']))/TestingDataRes['Strength'])"
   ]
  },
  {
   "cell_type": "code",
   "execution_count": 39,
   "id": "8d937663",
   "metadata": {},
   "outputs": [
    {
     "data": {
      "text/plain": [
       "0       8.762996\n",
       "1      48.351648\n",
       "2      34.803922\n",
       "3      62.519045\n",
       "4      29.784455\n",
       "         ...    \n",
       "297    10.152740\n",
       "298     1.515152\n",
       "299    26.443545\n",
       "300     7.468124\n",
       "301    25.345278\n",
       "Name: APE, Length: 302, dtype: float64"
      ]
     },
     "execution_count": 39,
     "metadata": {},
     "output_type": "execute_result"
    }
   ],
   "source": [
    "TestingDataRes['APE']"
   ]
  },
  {
   "cell_type": "code",
   "execution_count": 40,
   "id": "36d6ab3b",
   "metadata": {},
   "outputs": [],
   "source": [
    "MAPE = np.mean(TestingDataRes['APE'])\n",
    "MedianMAPE=np.median(TestingDataRes['APE'])\n"
   ]
  },
  {
   "cell_type": "code",
   "execution_count": 41,
   "id": "95b78844",
   "metadata": {},
   "outputs": [
    {
     "name": "stdout",
     "output_type": "stream",
     "text": [
      "Mean accuracy on test data: 77.3088357574806\n",
      "Median accuracy on test data: 85.04643905441034\n"
     ]
    }
   ],
   "source": [
    "Accuracy = 100-MAPE\n",
    "MedianAccuracy = 100-MedianMAPE\n",
    "\n",
    "print('Mean accuracy on test data:',Accuracy)\n",
    "print('Median accuracy on test data:',MedianAccuracy)"
   ]
  },
  {
   "cell_type": "code",
   "execution_count": 42,
   "id": "fbab05ea",
   "metadata": {},
   "outputs": [],
   "source": [
    "from sklearn.model_selection import cross_val_score"
   ]
  },
  {
   "cell_type": "code",
   "execution_count": 43,
   "id": "e3d46b73",
   "metadata": {},
   "outputs": [],
   "source": [
    "accuracy_values = cross_val_score(model,X,y,cv=10)"
   ]
  },
  {
   "cell_type": "code",
   "execution_count": 44,
   "id": "51a55a28",
   "metadata": {},
   "outputs": [
    {
     "name": "stdout",
     "output_type": "stream",
     "text": [
      "Accuracy values for 10-Fold Cross Validation:\n",
      " [0.25762506 0.64760933 0.7673313  0.56859087 0.56658733 0.49878496\n",
      " 0.76508927 0.70041222 0.46325497 0.44658526]\n"
     ]
    }
   ],
   "source": [
    "print('Accuracy values for 10-Fold Cross Validation:\\n',accuracy_values)"
   ]
  },
  {
   "cell_type": "code",
   "execution_count": 45,
   "id": "9655ed05",
   "metadata": {},
   "outputs": [
    {
     "name": "stdout",
     "output_type": "stream",
     "text": [
      "Final Average Accuracy values:\n",
      " 0.57\n"
     ]
    }
   ],
   "source": [
    "print('Final Average Accuracy values:\\n',round(accuracy_values.mean(),2))"
   ]
  },
  {
   "cell_type": "markdown",
   "id": "5b250eb4",
   "metadata": {},
   "source": [
    "Also we can check that accuracy is not upto the mark so dropping this RandomForest Model here and trying AdaBoost"
   ]
  },
  {
   "cell_type": "code",
   "execution_count": 46,
   "id": "0bf2e99a",
   "metadata": {},
   "outputs": [],
   "source": [
    "from sklearn.tree import DecisionTreeRegressor\n",
    "from sklearn.ensemble import  AdaBoostRegressor"
   ]
  },
  {
   "cell_type": "code",
   "execution_count": 47,
   "id": "2389b038",
   "metadata": {},
   "outputs": [],
   "source": [
    "DTR = DecisionTreeRegressor(max_depth = 10)\n",
    "regmodel = AdaBoostRegressor(n_estimators = 100, base_estimator = DTR,learning_rate= 0.04)"
   ]
  },
  {
   "cell_type": "code",
   "execution_count": 48,
   "id": "2ed510b4",
   "metadata": {},
   "outputs": [],
   "source": [
    "AB = regmodel.fit(X_train,y_train)\n",
    "prediction_AB = AB.predict(X_test)"
   ]
  },
  {
   "cell_type": "code",
   "execution_count": 49,
   "id": "a697d6b6",
   "metadata": {},
   "outputs": [
    {
     "name": "stdout",
     "output_type": "stream",
     "text": [
      "R2 Value: 0.9714099386414032\n"
     ]
    }
   ],
   "source": [
    "# Measuring goodness of the model fit in Training data\n",
    "print('R2 Value:',metrics.r2_score(y_train,AB.predict(X_train)))"
   ]
  },
  {
   "cell_type": "code",
   "execution_count": 50,
   "id": "ed476fe1",
   "metadata": {},
   "outputs": [
    {
     "data": {
      "text/plain": [
       "<AxesSubplot:>"
      ]
     },
     "execution_count": 50,
     "metadata": {},
     "output_type": "execute_result"
    },
    {
     "data": {
      "image/png": "[encoded data removed]",
      "text/plain": [
       "<Figure size 432x288 with 1 Axes>"
      ]
     },
     "metadata": {
      "needs_background": "light"
     },
     "output_type": "display_data"
    }
   ],
   "source": [
    "feature_imp = pd.Series(AB.feature_importances_,index= predictor)\n",
    "feature_imp.nlargest(10).plot(kind='barh')"
   ]
  },
  {
   "cell_type": "code",
   "execution_count": 51,
   "id": "70d9d8d6",
   "metadata": {},
   "outputs": [
    {
     "name": "stdout",
     "output_type": "stream",
     "text": [
      "   Strength  PredictedStrength\n",
      "0     47.13               47.0\n",
      "1     18.20               28.0\n",
      "2     24.48               24.0\n",
      "3     19.69               30.0\n",
      "4     61.24               61.0\n"
     ]
    }
   ],
   "source": [
    "# Printing some sample values of prediction\n",
    "\n",
    "TestingDataRes = pd.DataFrame(data= X_test,columns=predictor)\n",
    "TestingDataRes[target] = y_test\n",
    "TestingDataRes[('Predicted' + target)] = np.round(prediction_AB)\n",
    "print(TestingDataRes[[target,'Predicted' + target]].head())"
   ]
  },
  {
   "cell_type": "code",
   "execution_count": 52,
   "id": "0539c01e",
   "metadata": {},
   "outputs": [],
   "source": [
    "TestingDataRes['APE'] = 100 * ((abs(TestingDataRes['Strength']-TestingDataRes['PredictedStrength']))/TestingDataRes['Strength'])"
   ]
  },
  {
   "cell_type": "code",
   "execution_count": 53,
   "id": "0ff36e15",
   "metadata": {},
   "outputs": [
    {
     "name": "stdout",
     "output_type": "stream",
     "text": [
      "Mean accuracy on test data: 80.58223371533666\n",
      "Median accuracy on test data: 87.78914196414\n"
     ]
    }
   ],
   "source": [
    "MAPE = np.mean(TestingDataRes['APE'])\n",
    "MedianMAPE=np.median(TestingDataRes['APE'])\n",
    "\n",
    "Accuracy = 100-MAPE\n",
    "MedianAccuracy = 100-MedianMAPE\n",
    "\n",
    "print('Mean accuracy on test data:',Accuracy)\n",
    "print('Median accuracy on test data:',MedianAccuracy)"
   ]
  },
  {
   "cell_type": "markdown",
   "id": "eb8cf314",
   "metadata": {},
   "source": [
    "AdaBoost looks like a good model for this case"
   ]
  },
  {
   "cell_type": "code",
   "execution_count": null,
   "id": "faa3eff6",
   "metadata": {},
   "outputs": [],
   "source": []
  }
 ],
 "metadata": {
  "kernelspec": {
   "display_name": "Python 3 (ipykernel)",
   "language": "python",
   "name": "python3"
  },
  "language_info": {
   "codemirror_mode": {
    "name": "ipython",
    "version": 3
   },
   "file_extension": ".py",
   "mimetype": "text/x-python",
   "name": "python",
   "nbconvert_exporter": "python",
   "pygments_lexer": "ipython3",
   "version": "3.9.12"
  }
 },
 "nbformat": 4,
 "nbformat_minor": 5
}
